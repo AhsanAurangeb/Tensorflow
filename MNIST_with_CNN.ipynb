{
  "nbformat": 4,
  "nbformat_minor": 0,
  "metadata": {
    "colab": {
      "name": "MNIST with CNN.ipynb",
      "provenance": [],
      "collapsed_sections": [],
      "include_colab_link": true
    },
    "kernelspec": {
      "name": "python3",
      "display_name": "Python 3"
    }
  },
  "cells": [
    {
      "cell_type": "markdown",
      "metadata": {
        "id": "view-in-github",
        "colab_type": "text"
      },
      "source": [
        "<a href=\"https://colab.research.google.com/github/AhsanAurangeb/Tensorflow/blob/master/MNIST_with_CNN.ipynb\" target=\"_parent\"><img src=\"https://colab.research.google.com/assets/colab-badge.svg\" alt=\"Open In Colab\"/></a>"
      ]
    },
    {
      "cell_type": "code",
      "metadata": {
        "id": "wrJ5DUDnTRk2",
        "colab_type": "code",
        "colab": {}
      },
      "source": [
        "# import tensorflow.compat.v1 as tf\n",
        "# tf.disable_v2_behavior()"
      ],
      "execution_count": 0,
      "outputs": []
    },
    {
      "cell_type": "code",
      "metadata": {
        "id": "N8YdLfaPSuR8",
        "colab_type": "code",
        "colab": {}
      },
      "source": [
        "import tensorflow as tf"
      ],
      "execution_count": 0,
      "outputs": []
    },
    {
      "cell_type": "code",
      "metadata": {
        "id": "tV7h0lEjTJ6T",
        "colab_type": "code",
        "colab": {}
      },
      "source": [
        "from tensorflow.examples.tutorials.mnist import input_data"
      ],
      "execution_count": 0,
      "outputs": []
    },
    {
      "cell_type": "code",
      "metadata": {
        "id": "1nmY9bMVTXUR",
        "colab_type": "code",
        "colab": {
          "base_uri": "https://localhost:8080/",
          "height": 117
        },
        "outputId": "12515aa2-07f3-4665-b429-5b013d630c4e"
      },
      "source": [
        "mnist = input_data.read_data_sets('MNIST_data/', one_hot=True)"
      ],
      "execution_count": 49,
      "outputs": [
        {
          "output_type": "stream",
          "text": [
            "Extracting MNIST_data/train-images-idx3-ubyte.gz\n",
            "Extracting MNIST_data/train-labels-idx1-ubyte.gz\n",
            "Extracting MNIST_data/t10k-images-idx3-ubyte.gz\n",
            "Extracting MNIST_data/t10k-labels-idx1-ubyte.gz\n"
          ],
          "name": "stdout"
        }
      ]
    },
    {
      "cell_type": "markdown",
      "metadata": {
        "id": "ARB-NmrPTqTO",
        "colab_type": "text"
      },
      "source": [
        "# Helper Function"
      ]
    },
    {
      "cell_type": "markdown",
      "metadata": {
        "id": "liYLyyiFTzSs",
        "colab_type": "text"
      },
      "source": [
        "Function to help intialize random weights for fully connected or convolutional layers, we leave the shape attribute as a parameter for this."
      ]
    },
    {
      "cell_type": "code",
      "metadata": {
        "id": "VhQOOU17TogT",
        "colab_type": "code",
        "colab": {}
      },
      "source": [
        "def init_weights(shape):\n",
        "  init_random_dist = tf.truncated_normal(shape, stddev=0.1)\n",
        "  return tf.Variable(init_random_dist)"
      ],
      "execution_count": 0,
      "outputs": []
    },
    {
      "cell_type": "code",
      "metadata": {
        "id": "rKVoE9KkTsyh",
        "colab_type": "code",
        "colab": {}
      },
      "source": [
        "# Same as the init weight, but for the biasis\n",
        "def init_bias(shape):\n",
        "  init_bias_vals = tf.constant(0.1, shape=shape)\n",
        "  return tf.Variable(init_bias_vals)"
      ],
      "execution_count": 0,
      "outputs": []
    },
    {
      "cell_type": "markdown",
      "metadata": {
        "id": "J4KMpI_kU3uk",
        "colab_type": "text"
      },
      "source": [
        "Create a 2D convolution using builtin conv2d from TF. From those docs:\n",
        "\n",
        "Computes a 2-D convolution given 4-D input and filter tensors.\n",
        "\n",
        "Given an input tensor of shape [batch, in_height, in_width, in_channels] and a filter / kernel tensor of shape [filter_height, filter_width, in_channels, out_channels], this op performs the following:\n",
        "\n",
        "1. Flattens the filter to a 2-D matrix with shape [filter_height * filter_width * in_channels, output_channels].\n",
        "2. Extracts image patches from the input tensor to form a virtual tensor of shape [batch, out_height, out_width,\n",
        "filter_height * filter_width * in_channels].\n",
        "3. For each patch, right-multiplies the filter matrix and the image patch vector."
      ]
    },
    {
      "cell_type": "code",
      "metadata": {
        "id": "UpJwcwIKUOKJ",
        "colab_type": "code",
        "colab": {}
      },
      "source": [
        "def conv2d(x, W):\n",
        "  return tf.nn.conv2d(x, W, strides=[1,1,1,1], padding='SAME')"
      ],
      "execution_count": 0,
      "outputs": []
    },
    {
      "cell_type": "markdown",
      "metadata": {
        "id": "VzGV2DpSW9r2",
        "colab_type": "text"
      },
      "source": [
        "Create a max pooling layer, again using built in TF functions:\n",
        "\n",
        "Performs the max pooling on the input."
      ]
    },
    {
      "cell_type": "code",
      "metadata": {
        "id": "wIjZI-R6U_BB",
        "colab_type": "code",
        "colab": {}
      },
      "source": [
        "def max_pool_2by2(x):\n",
        "  return tf.nn.max_pool(x, ksize=[1,1,1,1], strides=[1,2,2,1], padding='SAME')"
      ],
      "execution_count": 0,
      "outputs": []
    },
    {
      "cell_type": "markdown",
      "metadata": {
        "id": "ddvRsYt-Xca3",
        "colab_type": "text"
      },
      "source": [
        "Using the conv2d function, we'll return an actual convolutional layer here that uses an ReLu activation."
      ]
    },
    {
      "cell_type": "code",
      "metadata": {
        "id": "JjLrGsdKW-tK",
        "colab_type": "code",
        "colab": {}
      },
      "source": [
        "def convolutional_layer(input_x, shape):\n",
        "  W = init_weights(shape)\n",
        "  b = init_bias([shape[3]])\n",
        "  return tf.nn.relu(conv2d(input_x, W) + b)"
      ],
      "execution_count": 0,
      "outputs": []
    },
    {
      "cell_type": "markdown",
      "metadata": {
        "id": "CU34Ye5fX9Uj",
        "colab_type": "text"
      },
      "source": [
        "This is a normal fully connected layer"
      ]
    },
    {
      "cell_type": "code",
      "metadata": {
        "id": "zgMDDCAhX8CL",
        "colab_type": "code",
        "colab": {}
      },
      "source": [
        "def normal_full_layer(input_layer, size):\n",
        "  input_size = int(input_layer.get_shape()[1])\n",
        "  W  = init_weights([input_size, size])\n",
        "  b = init_bias([size])\n",
        "  return tf.matmul(input_layer, W) + b"
      ],
      "execution_count": 0,
      "outputs": []
    },
    {
      "cell_type": "markdown",
      "metadata": {
        "id": "N_5ggf9dYf2h",
        "colab_type": "text"
      },
      "source": [
        "# Placeholder"
      ]
    },
    {
      "cell_type": "code",
      "metadata": {
        "id": "CCPUsDQ4YewO",
        "colab_type": "code",
        "colab": {}
      },
      "source": [
        "x = tf.placeholder(tf.float32, shape=[None, 784])"
      ],
      "execution_count": 0,
      "outputs": []
    },
    {
      "cell_type": "code",
      "metadata": {
        "id": "WqX80uyFYroj",
        "colab_type": "code",
        "colab": {}
      },
      "source": [
        "y_true = tf.placeholder(tf.float32, shape=[None, 10])"
      ],
      "execution_count": 0,
      "outputs": []
    },
    {
      "cell_type": "markdown",
      "metadata": {
        "id": "l-Vwt9ABY0Hj",
        "colab_type": "text"
      },
      "source": [
        "# Layer"
      ]
    },
    {
      "cell_type": "code",
      "metadata": {
        "id": "tOXNQmi3YzNT",
        "colab_type": "code",
        "colab": {}
      },
      "source": [
        "x_image = tf.reshape(x, [-1,28,28,1])"
      ],
      "execution_count": 0,
      "outputs": []
    },
    {
      "cell_type": "code",
      "metadata": {
        "id": "ZhEZ_a8sY_FD",
        "colab_type": "code",
        "colab": {}
      },
      "source": [
        "# Using a 6by6 filter here, used 5by5 in video, you can play around with the filter size\n",
        "# You can change the 32 output, that essentially represents the amount of filters used\n",
        "# You need to pass in 32 to the next input though, the 1 comes from the original input of \n",
        "# a single image.\n",
        "convo_1 = convolutional_layer(x_image,shape=[6,6,1,32])\n",
        "convo_1_pooling = max_pool_2by2(convo_1)"
      ],
      "execution_count": 0,
      "outputs": []
    },
    {
      "cell_type": "code",
      "metadata": {
        "id": "yXXx2gCrZhB7",
        "colab_type": "code",
        "colab": {}
      },
      "source": [
        "# Using a 6by6 filter here, used 5by5 in video, you can play around with the filter size\n",
        "# You can actually change the 64 output if you want, you can think of that as a representation\n",
        "# of the amount of 6by6 filters used.\n",
        "convo_2 = convolutional_layer(convo_1_pooling, shape=[6,6,32,64])\n",
        "convo_2_pooling = max_pool_2by2(convo_2)"
      ],
      "execution_count": 0,
      "outputs": []
    },
    {
      "cell_type": "code",
      "metadata": {
        "id": "40krgFGn1IiP",
        "colab_type": "code",
        "colab": {}
      },
      "source": [
        "# Why 7 by 7 image? Because we did 2 pooling layers, so (28/2)/2 = 7\n",
        "# 64 then just comes from the output of the previous Convolution\n",
        "convo_2_flat = tf.reshape(convo_2_pooling,[-1,7*7*64])\n",
        "full_layer_one = tf.nn.relu(normal_full_layer(convo_2_flat, 1024))"
      ],
      "execution_count": 0,
      "outputs": []
    },
    {
      "cell_type": "code",
      "metadata": {
        "id": "ifII8lis1rM-",
        "colab_type": "code",
        "colab": {}
      },
      "source": [
        "# NOTE THE PLACEHOLDER HERE\n",
        "hold_prob = tf.placeholder(tf.float32)\n",
        "full_one_dropout = tf.nn.dropout(full_layer_one, keep_prob=hold_prob)"
      ],
      "execution_count": 0,
      "outputs": []
    },
    {
      "cell_type": "code",
      "metadata": {
        "id": "xjHKFf4b3gXm",
        "colab_type": "code",
        "colab": {}
      },
      "source": [
        "y_pred = normal_full_layer(full_one_dropout, 10)"
      ],
      "execution_count": 0,
      "outputs": []
    },
    {
      "cell_type": "markdown",
      "metadata": {
        "id": "nIU9d8fO2hfe",
        "colab_type": "text"
      },
      "source": [
        "# Loss Function"
      ]
    },
    {
      "cell_type": "code",
      "metadata": {
        "id": "cXDug9fB2dIu",
        "colab_type": "code",
        "colab": {
          "base_uri": "https://localhost:8080/",
          "height": 173
        },
        "outputId": "abaedcaf-c792-4a6a-fa71-b02e54308af2"
      },
      "source": [
        "cross_entropy = tf.reduce_mean(tf.nn.softmax_cross_entropy_with_logits(labels=y_true,logits=y_pred))"
      ],
      "execution_count": 65,
      "outputs": [
        {
          "output_type": "stream",
          "text": [
            "WARNING:tensorflow:From <ipython-input-65-e0c07892321c>:1: softmax_cross_entropy_with_logits (from tensorflow.python.ops.nn_ops) is deprecated and will be removed in a future version.\n",
            "Instructions for updating:\n",
            "\n",
            "Future major versions of TensorFlow will allow gradients to flow\n",
            "into the labels input on backprop by default.\n",
            "\n",
            "See `tf.nn.softmax_cross_entropy_with_logits_v2`.\n",
            "\n"
          ],
          "name": "stdout"
        }
      ]
    },
    {
      "cell_type": "markdown",
      "metadata": {
        "id": "7fSCeirF3wdm",
        "colab_type": "text"
      },
      "source": [
        "# Optimizer"
      ]
    },
    {
      "cell_type": "code",
      "metadata": {
        "id": "iIAiiFen22J1",
        "colab_type": "code",
        "colab": {}
      },
      "source": [
        "optimizer = tf.train.AdamOptimizer(learning_rate=0.0001)\n",
        "train = optimizer.minimize(cross_entropy)"
      ],
      "execution_count": 0,
      "outputs": []
    },
    {
      "cell_type": "markdown",
      "metadata": {
        "id": "XSD95p1U4Fpr",
        "colab_type": "text"
      },
      "source": [
        "# Initialize Variable"
      ]
    },
    {
      "cell_type": "code",
      "metadata": {
        "id": "JErDnjEI3xzO",
        "colab_type": "code",
        "colab": {}
      },
      "source": [
        "init = tf.global_variables_initializer()"
      ],
      "execution_count": 0,
      "outputs": []
    },
    {
      "cell_type": "markdown",
      "metadata": {
        "id": "4k2uRG7a4Ref",
        "colab_type": "text"
      },
      "source": [
        "# Session"
      ]
    },
    {
      "cell_type": "code",
      "metadata": {
        "id": "ypJ45dNz4QSm",
        "colab_type": "code",
        "colab": {
          "base_uri": "https://localhost:8080/",
          "height": 1000
        },
        "outputId": "f6ea0a75-267e-4d8e-eabc-a4ac81a06581"
      },
      "source": [
        "steps = 5000\n",
        "\n",
        "with tf.Session() as sess:\n",
        "  sess.run(init)\n",
        "\n",
        "  for i in range(steps):\n",
        "\n",
        "    batch_x, batch_y = mnist.train.next_batch(50)\n",
        "\n",
        "    sess.run(train, feed_dict={x:batch_x, y_true:batch_y, hold_prob:0.5})\n",
        "\n",
        "    # Print Out a message every 100 steps\n",
        "\n",
        "    if i%100== 0:\n",
        "\n",
        "      print('Currently on step {}'.format(i))\n",
        "      print('Accuracy is :')\n",
        "      # Test the Train Model\n",
        "      matches = tf.equal(tf.argmax(y_pred,1),tf.argmax(y_true,1))\n",
        "\n",
        "      acc = tf.reduce_mean(tf.cast(matches, tf.float32))\n",
        "\n",
        "      print(sess.run(acc, feed_dict={x:mnist.test.images, y_true:mnist.test.labels, hold_prob:1.0}))\n",
        "\n",
        "      print('\\n')"
      ],
      "execution_count": 71,
      "outputs": [
        {
          "output_type": "stream",
          "text": [
            "Currently on step 0\n",
            "Accuracy is :\n",
            "0.0784\n",
            "\n",
            "\n",
            "Currently on step 100\n",
            "Accuracy is :\n",
            "0.833\n",
            "\n",
            "\n",
            "Currently on step 200\n",
            "Accuracy is :\n",
            "0.8808\n",
            "\n",
            "\n",
            "Currently on step 300\n",
            "Accuracy is :\n",
            "0.9025\n",
            "\n",
            "\n",
            "Currently on step 400\n",
            "Accuracy is :\n",
            "0.9196\n",
            "\n",
            "\n",
            "Currently on step 500\n",
            "Accuracy is :\n",
            "0.9271\n",
            "\n",
            "\n",
            "Currently on step 600\n",
            "Accuracy is :\n",
            "0.9343\n",
            "\n",
            "\n",
            "Currently on step 700\n",
            "Accuracy is :\n",
            "0.9408\n",
            "\n",
            "\n",
            "Currently on step 800\n",
            "Accuracy is :\n",
            "0.942\n",
            "\n",
            "\n",
            "Currently on step 900\n",
            "Accuracy is :\n",
            "0.9463\n",
            "\n",
            "\n",
            "Currently on step 1000\n",
            "Accuracy is :\n",
            "0.9502\n",
            "\n",
            "\n",
            "Currently on step 1100\n",
            "Accuracy is :\n",
            "0.9493\n",
            "\n",
            "\n",
            "Currently on step 1200\n",
            "Accuracy is :\n",
            "0.9543\n",
            "\n",
            "\n",
            "Currently on step 1300\n",
            "Accuracy is :\n",
            "0.9555\n",
            "\n",
            "\n",
            "Currently on step 1400\n",
            "Accuracy is :\n",
            "0.9588\n",
            "\n",
            "\n",
            "Currently on step 1500\n",
            "Accuracy is :\n",
            "0.9591\n",
            "\n",
            "\n",
            "Currently on step 1600\n",
            "Accuracy is :\n",
            "0.961\n",
            "\n",
            "\n",
            "Currently on step 1700\n",
            "Accuracy is :\n",
            "0.9639\n",
            "\n",
            "\n",
            "Currently on step 1800\n",
            "Accuracy is :\n",
            "0.9656\n",
            "\n",
            "\n",
            "Currently on step 1900\n",
            "Accuracy is :\n",
            "0.9659\n",
            "\n",
            "\n",
            "Currently on step 2000\n",
            "Accuracy is :\n",
            "0.9679\n",
            "\n",
            "\n",
            "Currently on step 2100\n",
            "Accuracy is :\n",
            "0.9696\n",
            "\n",
            "\n",
            "Currently on step 2200\n",
            "Accuracy is :\n",
            "0.9704\n",
            "\n",
            "\n",
            "Currently on step 2300\n",
            "Accuracy is :\n",
            "0.9702\n",
            "\n",
            "\n",
            "Currently on step 2400\n",
            "Accuracy is :\n",
            "0.971\n",
            "\n",
            "\n",
            "Currently on step 2500\n",
            "Accuracy is :\n",
            "0.9717\n",
            "\n",
            "\n",
            "Currently on step 2600\n",
            "Accuracy is :\n",
            "0.9741\n",
            "\n",
            "\n",
            "Currently on step 2700\n",
            "Accuracy is :\n",
            "0.9739\n",
            "\n",
            "\n",
            "Currently on step 2800\n",
            "Accuracy is :\n",
            "0.9736\n",
            "\n",
            "\n",
            "Currently on step 2900\n",
            "Accuracy is :\n",
            "0.9741\n",
            "\n",
            "\n",
            "Currently on step 3000\n",
            "Accuracy is :\n",
            "0.974\n",
            "\n",
            "\n",
            "Currently on step 3100\n",
            "Accuracy is :\n",
            "0.9738\n",
            "\n",
            "\n",
            "Currently on step 3200\n",
            "Accuracy is :\n",
            "0.9758\n",
            "\n",
            "\n",
            "Currently on step 3300\n",
            "Accuracy is :\n",
            "0.9769\n",
            "\n",
            "\n",
            "Currently on step 3400\n",
            "Accuracy is :\n",
            "0.9767\n",
            "\n",
            "\n",
            "Currently on step 3500\n",
            "Accuracy is :\n",
            "0.9767\n",
            "\n",
            "\n",
            "Currently on step 3600\n",
            "Accuracy is :\n",
            "0.9783\n",
            "\n",
            "\n",
            "Currently on step 3700\n",
            "Accuracy is :\n",
            "0.9786\n",
            "\n",
            "\n",
            "Currently on step 3800\n",
            "Accuracy is :\n",
            "0.9788\n",
            "\n",
            "\n",
            "Currently on step 3900\n",
            "Accuracy is :\n",
            "0.979\n",
            "\n",
            "\n",
            "Currently on step 4000\n",
            "Accuracy is :\n",
            "0.9783\n",
            "\n",
            "\n",
            "Currently on step 4100\n",
            "Accuracy is :\n",
            "0.9795\n",
            "\n",
            "\n",
            "Currently on step 4200\n",
            "Accuracy is :\n",
            "0.9786\n",
            "\n",
            "\n",
            "Currently on step 4300\n",
            "Accuracy is :\n",
            "0.9783\n",
            "\n",
            "\n",
            "Currently on step 4400\n",
            "Accuracy is :\n",
            "0.9802\n",
            "\n",
            "\n",
            "Currently on step 4500\n",
            "Accuracy is :\n",
            "0.9806\n",
            "\n",
            "\n",
            "Currently on step 4600\n",
            "Accuracy is :\n",
            "0.9797\n",
            "\n",
            "\n",
            "Currently on step 4700\n",
            "Accuracy is :\n",
            "0.9804\n",
            "\n",
            "\n",
            "Currently on step 4800\n",
            "Accuracy is :\n",
            "0.9815\n",
            "\n",
            "\n",
            "Currently on step 4900\n",
            "Accuracy is :\n",
            "0.9818\n",
            "\n",
            "\n"
          ],
          "name": "stdout"
        }
      ]
    },
    {
      "cell_type": "code",
      "metadata": {
        "id": "2NYmEJvr4RLG",
        "colab_type": "code",
        "colab": {}
      },
      "source": [
        ""
      ],
      "execution_count": 0,
      "outputs": []
    },
    {
      "cell_type": "code",
      "metadata": {
        "id": "jaS_bpDj4TrW",
        "colab_type": "code",
        "colab": {}
      },
      "source": [
        ""
      ],
      "execution_count": 0,
      "outputs": []
    }
  ]
}